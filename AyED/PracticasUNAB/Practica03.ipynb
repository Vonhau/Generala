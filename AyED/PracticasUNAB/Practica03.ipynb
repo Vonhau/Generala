{
 "cells": [
  {
   "cell_type": "markdown",
   "metadata": {},
   "source": [
    "# Clase 03 - Practica 3 - Funciones - "
   ]
  },
  {
   "cell_type": "markdown",
   "metadata": {},
   "source": [
    "Implementar una función **recursiva** que retorne la suma de los primeros $\\textit{n}$ números."
   ]
  },
  {
   "cell_type": "code",
   "execution_count": null,
   "metadata": {},
   "outputs": [],
   "source": [
    "def suma_n_primeros(n):\n",
    "    if n == 0:\n",
    "        return 0\n",
    "    else:\n",
    "        print(n)\n",
    "        return n + suma_n_primeros(n - 1)\n",
    "\n",
    "\n",
    "n = int(input(\"Ingrese el valor de N: \"))\n",
    "resultado = suma_n_primeros(n)\n",
    "print(f\"La suma de los primeros {n} numeros es: {resultado}\")"
   ]
  },
  {
   "cell_type": "markdown",
   "metadata": {},
   "source": [
    "Implementar una función **iterativa** que retorne la suma de los primeros $\\textit{n}$ números."
   ]
  },
  {
   "cell_type": "code",
   "execution_count": 1,
   "metadata": {},
   "outputs": [
    {
     "name": "stdout",
     "output_type": "stream",
     "text": [
      "La suma de los primeros 5 numeros es: 15\n"
     ]
    }
   ],
   "source": [
    "def suma(n):\n",
    "    suma = 0\n",
    "    for i in range(1, n + 1):\n",
    "        suma += i\n",
    "    return suma\n",
    "\n",
    "n = int(input(\"Ingrese el valor de N: \"))\n",
    "resultado = suma(n)\n",
    "print(f\"La suma de los primeros {n} numeros es: {resultado}\")"
   ]
  },
  {
   "cell_type": "markdown",
   "metadata": {},
   "source": [
    "Implementar una función **recursiva** que reciba como parametro una lista de números enteros y retorne el maximo. "
   ]
  },
  {
   "cell_type": "code",
   "execution_count": 8,
   "metadata": {},
   "outputs": [
    {
     "name": "stdout",
     "output_type": "stream",
     "text": [
      "[25, 62, 31]\n",
      "El valor máximo en la lista es: 62\n"
     ]
    }
   ],
   "source": [
    "def lista(cantidad_numeros):\n",
    "    lista = []\n",
    "    for i in range(cantidad_numeros):\n",
    "        numero_lista = int(input(f\"Ingrese el {i + 1} número: \"))\n",
    "        lista.append(numero_lista)\n",
    "    print(lista)\n",
    "    return lista\n",
    "    \n",
    "def valor_maximo(numeros):\n",
    "    maximo = numeros[0]\n",
    "    for numero in numeros:\n",
    "        if numero > maximo:\n",
    "            maximo = numero\n",
    "    return maximo\n",
    "    \n",
    "\n",
    "cantidad_numeros = int(input(\"¿Cuantos numeros desea en su lista?: \"))\n",
    "listafinal = lista(cantidad_numeros)\n",
    "maximo = valor_maximo(listafinal)\n",
    "print(f\"El valor máximo en la lista es: {maximo}\")"
   ]
  },
  {
   "cell_type": "markdown",
   "metadata": {},
   "source": [
    "Escribir un programa que, dado un número entero $k$, retorne el indice de la primer ocurrencia del número 1, en la secuencia de Siracusa generada con el parametro $k$. Es decir, la cantidad de pasos necesarios para que la serie converja a su punto fijo.  \n",
    "\n",
    "La secuencia de Siracusa: \\\\\n",
    "- El primer termino es $s_0=k$, y los terminos siguentes ($s_i$) se calculan con la siguiente formula: \n",
    " - (i) si el termino $k_i$ es par, dividimos por 2: $\\frac{k}{2}$;\n",
    " - (ii) si el termino $k_i$ es impar, multiplicamos por 3 y sumamos 1: $(3 k + 1)$. \\\\\n",
    "\n",
    "$s_{n+1} = \\left\\lbrace\\begin{array}{l} \\dfrac{s_{n}}{2}  &\\texttt{si } n \\texttt{ es par}\\\\\n",
    "3 s_{n} + 1  &\\texttt{si } n \\texttt{ es impar}\\end{array}\\right.$\n",
    "\n",
    "La secuencia para cuando obtenemos el numero $1$, ya que desde ese punto se repite. \n",
    "**Ejemplo:** para $k=1$, $k=2$, o $k=4$. La secuencia de Siracusa sera: [4, 2, 1]. \n",
    "\n"
   ]
  },
  {
   "cell_type": "code",
   "execution_count": null,
   "metadata": {},
   "outputs": [],
   "source": []
  }
 ],
 "metadata": {
  "kernelspec": {
   "display_name": "Python 3",
   "language": "python",
   "name": "python3"
  },
  "language_info": {
   "codemirror_mode": {
    "name": "ipython",
    "version": 3
   },
   "file_extension": ".py",
   "mimetype": "text/x-python",
   "name": "python",
   "nbconvert_exporter": "python",
   "pygments_lexer": "ipython3",
   "version": "3.12.2"
  }
 },
 "nbformat": 4,
 "nbformat_minor": 2
}
